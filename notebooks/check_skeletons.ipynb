{
 "cells": [
  {
   "cell_type": "markdown",
   "metadata": {},
   "source": [
    "# Check Skeletons (CSV -> IMG)\n",
    "This Notbook builds a qucik gradio interface, where one can manually check the csv data. Upload the csv and get an image with the detected mediapipe skeleton."
   ]
  },
  {
   "cell_type": "code",
   "execution_count": 1,
   "metadata": {},
   "outputs": [
    {
     "name": "stderr",
     "output_type": "stream",
     "text": [
      "c:\\Users\\hannes\\01_Code\\02_master_rci\\03_Semester_PoliMi\\02_nearables_lab\\gym_tracking\\.venv\\Lib\\site-packages\\tqdm\\auto.py:21: TqdmWarning: IProgress not found. Please update jupyter and ipywidgets. See https://ipywidgets.readthedocs.io/en/stable/user_install.html\n",
      "  from .autonotebook import tqdm as notebook_tqdm\n"
     ]
    }
   ],
   "source": [
    "import cv2\n",
    "import gradio as gr\n",
    "import numpy as np\n",
    "import mediapipe as mp\n",
    "from pathlib import Path\n",
    "from mediapipe.framework.formats.landmark_pb2 import NormalizedLandmark, NormalizedLandmarkList"
   ]
  },
  {
   "cell_type": "code",
   "execution_count": 2,
   "metadata": {},
   "outputs": [
    {
     "name": "stdout",
     "output_type": "stream",
     "text": [
      "* Running on local URL:  http://127.0.0.1:7862\n",
      "* To create a public link, set `share=True` in `launch()`.\n"
     ]
    },
    {
     "data": {
      "text/html": [
       "<div><iframe src=\"http://127.0.0.1:7862/\" width=\"100%\" height=\"500\" allow=\"autoplay; camera; microphone; clipboard-read; clipboard-write;\" frameborder=\"0\" allowfullscreen></iframe></div>"
      ],
      "text/plain": [
       "<IPython.core.display.HTML object>"
      ]
     },
     "metadata": {},
     "output_type": "display_data"
    },
    {
     "data": {
      "text/plain": []
     },
     "execution_count": 2,
     "metadata": {},
     "output_type": "execute_result"
    }
   ],
   "source": [
    "# ——— Mediapipe setup ———\n",
    "mp_pose    = mp.solutions.pose\n",
    "mp_drawing = mp.solutions.drawing_utils\n",
    "mp_styles  = mp.solutions.drawing_styles\n",
    "\n",
    "def skeleton_csv_to_image(csv_path):\n",
    "    # Read & parse the CSV\n",
    "    with open(csv_path, \"r\") as f:\n",
    "        lines = [line.strip() for line in f if line.strip()]\n",
    "        lines = lines[1:]  # skip header line\n",
    "        # skip last column if it exists\n",
    "        lines = [line.rsplit(\",\", 1)[0] for line in lines]  # drop last column\n",
    "    \n",
    "    # each line has 132 comma-separated floats (33 landmarks * 4 values)\n",
    "    data = np.array([list(map(float, line.split(\",\"))) for line in lines], dtype=np.float32)\n",
    "    num_frames = len(data)\n",
    "    data = data.reshape(num_frames, 33, 4)  # → (num_frames, 33 landmarks, 4 values)\n",
    "    \n",
    "    # Get the last frame's keypoints\n",
    "    last_frame_kpts = data[-1]\n",
    "    \n",
    "    # Build a NormalizedLandmarkList for the last frame\n",
    "    lm_list = NormalizedLandmarkList(\n",
    "        landmark=[\n",
    "            NormalizedLandmark(x=pt[0], y=pt[1], z=pt[2], visibility=pt[3])\n",
    "            for pt in last_frame_kpts\n",
    "        ]\n",
    "    )\n",
    "    \n",
    "    # Create a blank canvas\n",
    "    canvas = np.zeros((480, 480, 3), dtype=np.uint8)\n",
    "    \n",
    "    # Draw skeleton\n",
    "    mp_drawing.draw_landmarks(\n",
    "        canvas,\n",
    "        lm_list,\n",
    "        mp_pose.POSE_CONNECTIONS,\n",
    "        landmark_drawing_spec=mp_styles.get_default_pose_landmarks_style()\n",
    "    )\n",
    "    \n",
    "    return canvas\n",
    "\n",
    "demo = gr.Interface(\n",
    "    fn=skeleton_csv_to_image,\n",
    "    inputs=gr.File(label=\"CSV File\"),\n",
    "    outputs=gr.Image(label=\"Skeleton Image\"),\n",
    "    title=\"Skeleton Visualization\",\n",
    "    description=\"Upload a CSV file to visualize the last frame's skeleton.\",\n",
    ")\n",
    "\n",
    "demo.launch()"
   ]
  }
 ],
 "metadata": {
  "kernelspec": {
   "display_name": ".venv",
   "language": "python",
   "name": "python3"
  },
  "language_info": {
   "codemirror_mode": {
    "name": "ipython",
    "version": 3
   },
   "file_extension": ".py",
   "mimetype": "text/x-python",
   "name": "python",
   "nbconvert_exporter": "python",
   "pygments_lexer": "ipython3",
   "version": "3.12.10"
  }
 },
 "nbformat": 4,
 "nbformat_minor": 2
}
